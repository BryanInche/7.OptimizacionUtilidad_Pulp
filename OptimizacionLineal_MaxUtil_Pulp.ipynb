{
 "cells": [
  {
   "cell_type": "code",
   "execution_count": 1,
   "id": "0059867b",
   "metadata": {},
   "outputs": [
    {
     "name": "stdout",
     "output_type": "stream",
     "text": [
      "Collecting pulp\n",
      "  Downloading PuLP-2.7.0-py3-none-any.whl (14.3 MB)\n",
      "     -------------------------------------- 14.3/14.3 MB 205.1 kB/s eta 0:00:00\n",
      "Installing collected packages: pulp\n",
      "Successfully installed pulp-2.7.0\n"
     ]
    },
    {
     "name": "stderr",
     "output_type": "stream",
     "text": [
      "WARNING: Ignoring invalid distribution -ensorflow-intel (c:\\users\\braya\\anaconda3\\lib\\site-packages)\n",
      "WARNING: Ignoring invalid distribution -atplotlib (c:\\users\\braya\\anaconda3\\lib\\site-packages)\n",
      "WARNING: Ignoring invalid distribution -ensorflow-intel (c:\\users\\braya\\anaconda3\\lib\\site-packages)\n",
      "WARNING: Ignoring invalid distribution -atplotlib (c:\\users\\braya\\anaconda3\\lib\\site-packages)\n",
      "WARNING: Ignoring invalid distribution -ensorflow-intel (c:\\users\\braya\\anaconda3\\lib\\site-packages)\n",
      "WARNING: Ignoring invalid distribution -atplotlib (c:\\users\\braya\\anaconda3\\lib\\site-packages)\n",
      "WARNING: Ignoring invalid distribution -ensorflow-intel (c:\\users\\braya\\anaconda3\\lib\\site-packages)\n",
      "WARNING: Ignoring invalid distribution -atplotlib (c:\\users\\braya\\anaconda3\\lib\\site-packages)\n",
      "WARNING: Ignoring invalid distribution -ensorflow-intel (c:\\users\\braya\\anaconda3\\lib\\site-packages)\n",
      "WARNING: Ignoring invalid distribution -atplotlib (c:\\users\\braya\\anaconda3\\lib\\site-packages)\n",
      "WARNING: Ignoring invalid distribution -ensorflow-intel (c:\\users\\braya\\anaconda3\\lib\\site-packages)\n",
      "WARNING: Ignoring invalid distribution -atplotlib (c:\\users\\braya\\anaconda3\\lib\\site-packages)\n",
      "WARNING: Ignoring invalid distribution -ensorflow-intel (c:\\users\\braya\\anaconda3\\lib\\site-packages)\n",
      "WARNING: Ignoring invalid distribution -atplotlib (c:\\users\\braya\\anaconda3\\lib\\site-packages)\n"
     ]
    }
   ],
   "source": [
    "#Instalar Pulp\n",
    "!pip install pulp"
   ]
  },
  {
   "cell_type": "code",
   "execution_count": 2,
   "id": "a69a293f",
   "metadata": {},
   "outputs": [],
   "source": [
    "import pulp as p\n",
    "import pandas as pd"
   ]
  },
  {
   "cell_type": "code",
   "execution_count": 3,
   "id": "12731fdb",
   "metadata": {},
   "outputs": [],
   "source": [
    "#Maximizar 950c + 1200h -> (Contribucion Total)\n",
    "\n",
    "#Sujeto a las siguientes restricciones:\n",
    "# Sujeto a las siguientes restricciones:\n",
    "# 1.4c + 2.8h <= 70 -> (Capacidad de Produccion )\n",
    "# c + h <= 30 -> (Capacidad de Carga)\n",
    "# 3c + h <= 65 -> (Limite de Recursos)\n",
    "# c >= 0  # Dominios de la varible c\n",
    "# h >= 0  # Dominio de la variable h"
   ]
  },
  {
   "cell_type": "code",
   "execution_count": 4,
   "id": "44a91cf3",
   "metadata": {},
   "outputs": [],
   "source": [
    "#Creamos una instancia del problema de programacion lineal\n",
    "modelo = p.LpProblem('Perfiles_Acero', p.LpMaximize)"
   ]
  },
  {
   "cell_type": "code",
   "execution_count": 6,
   "id": "a1079140",
   "metadata": {},
   "outputs": [],
   "source": [
    "#Creamos las variables de decision\n",
    "# Al definir la categoria de la varible podemos elegir entre LpInteger, LpContinous y LpBinary\n",
    "C = p.LpVariable('Camiones_Perfil_C', lowBound = 0, cat = p.LpContinuous) #c >= 0\n",
    "H = p.LpVariable('Camiones_Perfil_H', lowBound = 0, cat = p.LpContinuous) #c >= 0"
   ]
  },
  {
   "cell_type": "code",
   "execution_count": 7,
   "id": "e9a4e334",
   "metadata": {},
   "outputs": [],
   "source": [
    "#Definir la funcion objetivo\n",
    "modelo += 950*C + 1200*H, 'Funcion Objetivo'"
   ]
  },
  {
   "cell_type": "code",
   "execution_count": null,
   "id": "489ac23e",
   "metadata": {},
   "outputs": [],
   "source": [
    "#Definimos las restricciones"
   ]
  }
 ],
 "metadata": {
  "kernelspec": {
   "display_name": "Python 3 (ipykernel)",
   "language": "python",
   "name": "python3"
  },
  "language_info": {
   "codemirror_mode": {
    "name": "ipython",
    "version": 3
   },
   "file_extension": ".py",
   "mimetype": "text/x-python",
   "name": "python",
   "nbconvert_exporter": "python",
   "pygments_lexer": "ipython3",
   "version": "3.9.13"
  }
 },
 "nbformat": 4,
 "nbformat_minor": 5
}
