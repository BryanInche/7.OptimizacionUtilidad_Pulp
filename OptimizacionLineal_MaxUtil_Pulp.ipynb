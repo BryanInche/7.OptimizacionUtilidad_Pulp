{
 "cells": [
  {
   "cell_type": "code",
   "execution_count": 1,
   "id": "0059867b",
   "metadata": {},
   "outputs": [],
   "source": [
    "#Instalar Pulp\n",
    "#!pip install pulp"
   ]
  },
  {
   "cell_type": "code",
   "execution_count": 3,
   "id": "a69a293f",
   "metadata": {},
   "outputs": [],
   "source": [
    "import pulp as p  #Libreria para realizar optimizacion matematica\n",
    "import pandas as pd"
   ]
  },
  {
   "cell_type": "code",
   "execution_count": 3,
   "id": "12731fdb",
   "metadata": {},
   "outputs": [],
   "source": [
    "#Maximizar 950c + 1200h -> (Contribucion Total)\n",
    "\n",
    "#Sujeto a las siguientes restricciones:\n",
    "# Sujeto a las siguientes restricciones:\n",
    "# 1.4c + 2.8h <= 70 -> (Capacidad de Produccion )\n",
    "# c + h <= 30 -> (Capacidad de Carga)\n",
    "# 3c + h <= 65 -> (Limite de Recursos)\n",
    "# c >= 0  # Dominios de la varible c\n",
    "# h >= 0  # Dominio de la variable h"
   ]
  },
  {
   "cell_type": "markdown",
   "id": "53e693bb",
   "metadata": {},
   "source": [
    "### 1.Creamos una instancia del problema de programacion lineal"
   ]
  },
  {
   "cell_type": "code",
   "execution_count": 26,
   "id": "44a91cf3",
   "metadata": {},
   "outputs": [],
   "source": [
    "#Creamos una instancia del problema de programacion lineal\n",
    "modelo = p.LpProblem('Perfiles_Acero', p.LpMaximize)"
   ]
  },
  {
   "cell_type": "markdown",
   "id": "32802dc9",
   "metadata": {},
   "source": [
    "### 2. Creamos las variables de decision"
   ]
  },
  {
   "cell_type": "code",
   "execution_count": 27,
   "id": "a1079140",
   "metadata": {},
   "outputs": [],
   "source": [
    "#Creamos las variables de decision\n",
    "# Al definir la categoria de la varible podemos elegir entre LpInteger, LpContinous y LpBinary\n",
    "#C:Caminones de perfil C\n",
    "#H:Camiones de perfil H\n",
    "C = p.LpVariable('Camiones_Perfil_C', lowBound = 0, cat = p.LpContinuous) #c >= 0\n",
    "H = p.LpVariable('Camiones_Perfil_H', lowBound = 0, cat = p.LpContinuous) #c >= 0"
   ]
  },
  {
   "cell_type": "markdown",
   "id": "8d166951",
   "metadata": {},
   "source": [
    "### 3. Definir la funcion objetivo"
   ]
  },
  {
   "cell_type": "code",
   "execution_count": 28,
   "id": "e9a4e334",
   "metadata": {},
   "outputs": [],
   "source": [
    "#Definir la funcion objetivo\n",
    "modelo += 950*C + 1200*H, 'Funcion Objetivo'"
   ]
  },
  {
   "cell_type": "markdown",
   "id": "c09b9c6e",
   "metadata": {},
   "source": [
    "### 4.Definimos las restricciones del modelo de optimizacion"
   ]
  },
  {
   "cell_type": "code",
   "execution_count": 29,
   "id": "96625c85",
   "metadata": {},
   "outputs": [],
   "source": [
    "modelo += 1.4*C + 2.8*H <= 90, 'Restriccion de Capacidad de Produccion'\n",
    "modelo += C + H <= 60, 'Restriccion de Capacidad de Carga'\n",
    "modelo += 3*C + H <= 65, 'Restriccion de Limite de Recursos'"
   ]
  },
  {
   "cell_type": "code",
   "execution_count": 30,
   "id": "d16e62d7",
   "metadata": {},
   "outputs": [
    {
     "data": {
      "text/plain": [
       "Perfiles_Acero:\n",
       "MAXIMIZE\n",
       "950*Camiones_Perfil_C + 1200*Camiones_Perfil_H + 0\n",
       "SUBJECT TO\n",
       "Restriccion_de_Capacidad_de_Produccion: 1.4 Camiones_Perfil_C\n",
       " + 2.8 Camiones_Perfil_H <= 90\n",
       "\n",
       "Restriccion_de_Capacidad_de_Carga: Camiones_Perfil_C + Camiones_Perfil_H <= 60\n",
       "\n",
       "Restriccion_de_Limite_de_Recursos: 3 Camiones_Perfil_C + Camiones_Perfil_H\n",
       " <= 65\n",
       "\n",
       "VARIABLES\n",
       "Camiones_Perfil_C Continuous\n",
       "Camiones_Perfil_H Continuous"
      ]
     },
     "execution_count": 30,
     "metadata": {},
     "output_type": "execute_result"
    }
   ],
   "source": [
    "modelo"
   ]
  },
  {
   "cell_type": "markdown",
   "id": "cdad3693",
   "metadata": {},
   "source": [
    "### 5. Resolviendo el problema de optimizacion"
   ]
  },
  {
   "cell_type": "code",
   "execution_count": 31,
   "id": "3bd1396a",
   "metadata": {},
   "outputs": [
    {
     "data": {
      "text/plain": [
       "1"
      ]
     },
     "execution_count": 31,
     "metadata": {},
     "output_type": "execute_result"
    }
   ],
   "source": [
    "modelo.solve()"
   ]
  },
  {
   "cell_type": "code",
   "execution_count": 32,
   "id": "3670dba7",
   "metadata": {},
   "outputs": [
    {
     "name": "stdout",
     "output_type": "stream",
     "text": [
      "Numero de Camiones de Perfiles Tipo C 13.142857\n",
      "Numero de Camiones de Perfiles Tipo H 25.571429\n",
      "Utilidad: 43171.42895\n"
     ]
    }
   ],
   "source": [
    "print(\"Numero de Camiones de Perfiles Tipo C\", C.varValue)\n",
    "print(\"Numero de Camiones de Perfiles Tipo H\", H.varValue)\n",
    "print(\"Utilidad:\", p.value(modelo.objective))"
   ]
  },
  {
   "cell_type": "markdown",
   "id": "d7445cd2",
   "metadata": {},
   "source": [
    "### 6. Analisis de Sensibilidad"
   ]
  },
  {
   "cell_type": "code",
   "execution_count": 34,
   "id": "19097fbe",
   "metadata": {},
   "outputs": [
    {
     "data": {
      "text/plain": [
       "odict_items([('Restriccion_de_Capacidad_de_Produccion', 1.4*Camiones_Perfil_C + 2.8*Camiones_Perfil_H + -90.0 <= 0), ('Restriccion_de_Capacidad_de_Carga', 1*Camiones_Perfil_C + 1*Camiones_Perfil_H + -60 <= 0), ('Restriccion_de_Limite_de_Recursos', 3*Camiones_Perfil_C + 1*Camiones_Perfil_H + -65 <= 0)])"
      ]
     },
     "execution_count": 34,
     "metadata": {},
     "output_type": "execute_result"
    }
   ],
   "source": [
    "modelo.constraints.items()"
   ]
  },
  {
   "cell_type": "code",
   "execution_count": 35,
   "id": "76824705",
   "metadata": {},
   "outputs": [
    {
     "name": "stdout",
     "output_type": "stream",
     "text": [
      "                              Restriccion  Precio Sombra    Holgura\n",
      "0  Restriccion_de_Capacidad_de_Produccion      378.57143  -0.000000\n",
      "1       Restriccion_de_Capacidad_de_Carga       -0.00000  21.285714\n",
      "2       Restriccion_de_Limite_de_Recursos      140.00000  -0.000000\n"
     ]
    }
   ],
   "source": [
    "sensibilidad  = [{'Restriccion':i, 'Precio Sombra': j.pi, 'Holgura': j.slack}\n",
    "                for i, j in modelo.constraints.items()]\n",
    "print(pd.DataFrame(sensibilidad))"
   ]
  },
  {
   "cell_type": "code",
   "execution_count": null,
   "id": "6e4505fb",
   "metadata": {},
   "outputs": [],
   "source": []
  },
  {
   "cell_type": "code",
   "execution_count": null,
   "id": "7606c311",
   "metadata": {},
   "outputs": [],
   "source": []
  },
  {
   "cell_type": "code",
   "execution_count": null,
   "id": "4341afd4",
   "metadata": {},
   "outputs": [],
   "source": []
  }
 ],
 "metadata": {
  "kernelspec": {
   "display_name": "Python 3 (ipykernel)",
   "language": "python",
   "name": "python3"
  },
  "language_info": {
   "codemirror_mode": {
    "name": "ipython",
    "version": 3
   },
   "file_extension": ".py",
   "mimetype": "text/x-python",
   "name": "python",
   "nbconvert_exporter": "python",
   "pygments_lexer": "ipython3",
   "version": "3.9.13"
  }
 },
 "nbformat": 4,
 "nbformat_minor": 5
}
